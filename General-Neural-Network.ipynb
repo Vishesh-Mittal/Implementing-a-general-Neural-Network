{
 "cells": [
  {
   "cell_type": "code",
   "execution_count": 25,
   "metadata": {},
   "outputs": [],
   "source": [
    "import numpy as np"
   ]
  },
  {
   "cell_type": "code",
   "execution_count": 26,
   "metadata": {},
   "outputs": [
    {
     "data": {
      "text/plain": [
       "((4, 2), (4, 1))"
      ]
     },
     "execution_count": 26,
     "metadata": {},
     "output_type": "execute_result"
    }
   ],
   "source": [
    "x=np.array([[0,0],[0,1],[1,0],[1,1]]) #And \n",
    "y=np.array([[0,1,1,0]]).T\n",
    "x.shape,y.shape"
   ]
  },
  {
   "cell_type": "code",
   "execution_count": 27,
   "metadata": {},
   "outputs": [
    {
     "data": {
      "text/plain": [
       "0.5"
      ]
     },
     "execution_count": 27,
     "metadata": {},
     "output_type": "execute_result"
    }
   ],
   "source": [
    "def sig(z):\n",
    "    return(1/(1+np.exp(-z)))\n",
    "sig(0)"
   ]
  },
  {
   "cell_type": "code",
   "execution_count": 28,
   "metadata": {},
   "outputs": [],
   "source": [
    "def derivativesig(z):\n",
    "    return sig(z)*(1-sig(z))"
   ]
  },
  {
   "cell_type": "code",
   "execution_count": 29,
   "metadata": {},
   "outputs": [],
   "source": [
    "wh = 2*np.random.random((2,2))-1# 2 feature 2 unit in next layer\n",
    "bh = 2*np.random.random((1,2))-1# 1 baised 2 unit in next layer \n",
    "wo = 2*np.random.random((2,1))-1# 2 unit in current layer 1 unit in next layer (output])\n",
    "bo = 2*np.random.random((1,1))-1# 1 baised 1 unit\n",
    "lr=1"
   ]
  },
  {
   "cell_type": "code",
   "execution_count": 30,
   "metadata": {},
   "outputs": [
    {
     "data": {
      "text/plain": [
       "array([[0.75155588],\n",
       "       [0.72073004],\n",
       "       [0.7294207 ],\n",
       "       [0.69550582]])"
      ]
     },
     "execution_count": 30,
     "metadata": {},
     "output_type": "execute_result"
    }
   ],
   "source": [
    "output0 = x\n",
    "outputHidden = sig(np.dot(output0,wh)+bh)# output0 is 4*2 and weight is 2*2= 4*2 and then we add bais \n",
    "output= sig(np.dot(outputHidden,wo)+bo)\n",
    "output"
   ]
  },
  {
   "cell_type": "code",
   "execution_count": 31,
   "metadata": {},
   "outputs": [],
   "source": [
    "x=np.array([[0,0],[0,1],[1,0],[1,1]]) #And \n",
    "y=np.array([[0,1,1,0]]).T"
   ]
  },
  {
   "cell_type": "code",
   "execution_count": 40,
   "metadata": {},
   "outputs": [
    {
     "name": "stdout",
     "output_type": "stream",
     "text": [
      "--------------\n",
      " output \n",
      "--------------\n",
      " [[0.00342654]\n",
      " [0.99649073]\n",
      " [0.99649038]\n",
      " [0.00429535]] \n",
      "-----------------\n",
      " weights hidden\n",
      "-----------------\n",
      " [[-6.08250369 -6.7713467 ]\n",
      " [-6.0830387  -6.77296445]] \n",
      "--------------\n",
      " baised hidden\n",
      "--------------\n",
      " [[9.08683446 2.86218221]] \n",
      "---------------\n",
      " weights output \n",
      "-------------\n",
      " [[ 12.48622414]\n",
      " [-12.8576634 ]] \n",
      "----------------\n",
      " baised output\n",
      "----------------\n",
      " [[-5.99494241]]\n"
     ]
    }
   ],
   "source": [
    "for i in range (10000):\n",
    "    output0 = x\n",
    "    inputhidden=np.dot(output0,wh)+bh\n",
    "    outputhidden=sig(inputhidden)\n",
    "    inputforoutputlayer=np.dot(outputhidden,wo)+bo# output0 is 4*2 and weight is 2*2= 4*2 and then we add bais \n",
    "    output= sig(inputforoutputlayer)\n",
    "\n",
    "    first_term_output_layer=output - y\n",
    "    second_term_output_layer=derivativesig(inputforoutputlayer)\n",
    "    first_second_term_output_layer=first_term_output_layer*second_term_output_layer\n",
    "\n",
    "    first_term_hidden_layer=np.dot(first_second_term_output_layer,wo.T)\n",
    "    second_term_hidden_layer=derivativesig(inputhidden)\n",
    "    first_second_term_hidden_layer=first_term_hidden_layer*second_term_hidden_layer\n",
    "    \n",
    "\n",
    "    changes_outputlayer=np.dot(outputhidden.T,first_second_term_output_layer)\n",
    "    changes_baised_outputlayer=np.sum(first_second_term_output_layer,axis=0,keepdims=True)\n",
    "\n",
    "    changes_hiddenlayer=np.dot(output0.T,first_second_term_hidden_layer)\n",
    "    changes_baised_hiddenlayer=np.sum(first_second_term_hidden_layer,axis=0,keepdims=True)\n",
    "\n",
    "    wo = wo - lr*changes_outputlayer\n",
    "    bo = bo - lr*changes_baised_outputlayer\n",
    "\n",
    "    wh = wh - lr*changes_hiddenlayer\n",
    "    bh = bh - lr*changes_baised_hiddenlayer\n",
    "    \n",
    "output0 = x\n",
    "inputhidden=np.dot(output0,wh)+bh\n",
    "outputhidden=sig(inputhidden)\n",
    "inputforoutputlayer=np.dot(outputhidden,wo)+bo# output0 is 4*2 and weight is 2*2= 4*2 and then we add bais \n",
    "output= sig(inputforoutputlayer)\n",
    "print(\"--------------\\n output \\n--------------\\n\",output,\"\\n-----------------\\n weights hidden\\n-----------------\\n\",wh,\"\\n--------------\\n baised hidden\\n--------------\\n\",bh,\"\\n---------------\\n weights output \\n-------------\\n\",wo,\"\\n----------------\\n baised output\\n----------------\\n\",bo)"
   ]
  }
 ],
 "metadata": {
  "kernelspec": {
   "display_name": "Python 3",
   "language": "python",
   "name": "python3"
  },
  "language_info": {
   "codemirror_mode": {
    "name": "ipython",
    "version": 3
   },
   "file_extension": ".py",
   "mimetype": "text/x-python",
   "name": "python",
   "nbconvert_exporter": "python",
   "pygments_lexer": "ipython3",
   "version": "3.8.3"
  }
 },
 "nbformat": 4,
 "nbformat_minor": 4
}

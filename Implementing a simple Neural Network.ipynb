{
 "cells": [
  {
   "cell_type": "code",
   "execution_count": 1,
   "metadata": {},
   "outputs": [],
   "source": [
    "import numpy as np"
   ]
  },
  {
   "cell_type": "code",
   "execution_count": 2,
   "metadata": {},
   "outputs": [
    {
     "data": {
      "text/plain": [
       "((4, 2), (4, 1))"
      ]
     },
     "execution_count": 2,
     "metadata": {},
     "output_type": "execute_result"
    }
   ],
   "source": [
    "x=np.array([[0,0],[0,1],[1,0],[1,1]]) #And \n",
    "y=np.array([[0,0,0,1]]).T\n",
    "x.shape,y.shape"
   ]
  },
  {
   "cell_type": "code",
   "execution_count": 3,
   "metadata": {},
   "outputs": [
    {
     "data": {
      "text/plain": [
       "0.5"
      ]
     },
     "execution_count": 3,
     "metadata": {},
     "output_type": "execute_result"
    }
   ],
   "source": [
    "def sig(z):\n",
    "    return(1/(1+np.exp(-z)))\n",
    "sig(0)"
   ]
  },
  {
   "cell_type": "code",
   "execution_count": 4,
   "metadata": {},
   "outputs": [],
   "source": [
    "def derivativesig(z):\n",
    "    return sig(z)*(1-sig(z))"
   ]
  },
  {
   "cell_type": "code",
   "execution_count": 8,
   "metadata": {},
   "outputs": [
    {
     "data": {
      "text/plain": [
       "(array([[0.09665188],\n",
       "        [0.96032325]]),\n",
       " array([-0.94203693]))"
      ]
     },
     "execution_count": 8,
     "metadata": {},
     "output_type": "execute_result"
    }
   ],
   "source": [
    "#NO HIDDEN LAYER WEIGHTS\n",
    "#it only gives positives#weights = np.random.random((2,1))\n",
    "weights = 2*np.random.random((2,1))-1# to change range from -1 to 1\n",
    "bias= 2 * np.random.random(1)-1\n",
    "lr=0.1\n",
    "datapoints=x.shape[0]\n",
    "features=x.shape[1]\n",
    "weights,bias"
   ]
  },
  {
   "cell_type": "code",
   "execution_count": 9,
   "metadata": {},
   "outputs": [
    {
     "data": {
      "text/plain": [
       "(array([[5.48676281],\n",
       "        [5.48676284]]),\n",
       " array([-8.32280382]),\n",
       " array([[2.42854828e-04],\n",
       "        [5.54073781e-02],\n",
       "        [5.54073766e-02],\n",
       "        [9.34055466e-01]]))"
      ]
     },
     "execution_count": 9,
     "metadata": {},
     "output_type": "execute_result"
    }
   ],
   "source": [
    "# FORWARD PROPAGATION WITHOUT ANY HIDDEN LAYER\n",
    "for iter in range(10000):\n",
    "    output0 = x \n",
    "    output = sig(np.dot(output0,weights)+bias)#vector dot product\n",
    "\n",
    "    first_term = output - y\n",
    "    input_for_last_layer = np.dot(output0,weights)+bias\n",
    "    second_term = derivativesig(input_for_last_layer)\n",
    "    first_two = first_term * second_term\n",
    "    first_two.shape\n",
    "\n",
    "    changes=np.array([[0.0],[0.0]])\n",
    "    for i in range(features):\n",
    "        for j in range(datapoints):\n",
    "            changes[i][0] += first_two[j][0]*output0[j][i]\n",
    "  \n",
    "    bias_change = 0.0\n",
    "    for j in range(datapoints):\n",
    "        bias_change += first_two[j][0]*1\n",
    "\n",
    "    weights= weights - lr*changes\n",
    "    bias   = bias    - lr*bias_change\n",
    "output=sig(np.dot(x,weights)+bias)\n",
    "weights,bias,output"
   ]
  }
 ],
 "metadata": {
  "kernelspec": {
   "display_name": "Python 3",
   "language": "python",
   "name": "python3"
  },
  "language_info": {
   "codemirror_mode": {
    "name": "ipython",
    "version": 3
   },
   "file_extension": ".py",
   "mimetype": "text/x-python",
   "name": "python",
   "nbconvert_exporter": "python",
   "pygments_lexer": "ipython3",
   "version": "3.8.3"
  }
 },
 "nbformat": 4,
 "nbformat_minor": 4
}

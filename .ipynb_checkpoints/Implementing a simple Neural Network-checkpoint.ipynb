{
 "cells": [
  {
   "cell_type": "code",
   "execution_count": 2,
   "metadata": {},
   "outputs": [],
   "source": [
    "import numpy as np"
   ]
  },
  {
   "cell_type": "code",
   "execution_count": 3,
   "metadata": {},
   "outputs": [
    {
     "data": {
      "text/plain": [
       "((4, 2), (4, 1))"
      ]
     },
     "execution_count": 3,
     "metadata": {},
     "output_type": "execute_result"
    }
   ],
   "source": [
    "x=np.array([[0,0],[0,1],[1,0],[1,1]]) #And \n",
    "y=np.array([[0,0,0,1]]).T\n",
    "x.shape,y.shape"
   ]
  },
  {
   "cell_type": "code",
   "execution_count": 4,
   "metadata": {},
   "outputs": [
    {
     "data": {
      "text/plain": [
       "0.5"
      ]
     },
     "execution_count": 4,
     "metadata": {},
     "output_type": "execute_result"
    }
   ],
   "source": [
    "def sig(z):\n",
    "    return(1/(1+np.exp(-z)))\n",
    "sig(0)"
   ]
  },
  {
   "cell_type": "code",
   "execution_count": 5,
   "metadata": {},
   "outputs": [],
   "source": [
    "def derivativesig(z):\n",
    "    return sig(z)*(1-sig(z))"
   ]
  },
  {
   "cell_type": "code",
   "execution_count": 6,
   "metadata": {},
   "outputs": [
    {
     "data": {
      "text/plain": [
       "(array([[0.3001712 ],\n",
       "        [0.90352176]]),\n",
       " array([-0.12717798]))"
      ]
     },
     "execution_count": 6,
     "metadata": {},
     "output_type": "execute_result"
    }
   ],
   "source": [
    "#NO HIDDEN LAYER WEIGHTS\n",
    "#it only gives positives#weights = np.random.random((2,1))\n",
    "weights = 2*np.random.random((2,1))-1# to change range from -1 to 1\n",
    "bias= 2 * np.random.random(1)-1\n",
    "lr=0.1\n",
    "datapoints=x.shape[0]\n",
    "features=x.shape[1]\n",
    "weights,bias"
   ]
  },
  {
   "cell_type": "code",
   "execution_count": 10,
   "metadata": {},
   "outputs": [
    {
     "name": "stdout",
     "output_type": "stream",
     "text": [
      "weights [[6.72500923]\n",
      " [6.72500923]] \n",
      " bias [-10.17615585] \n",
      " output [[3.80658150e-05]\n",
      " [3.07346830e-02]\n",
      " [3.07346830e-02]\n",
      " [9.63521179e-01]]\n"
     ]
    }
   ],
   "source": [
    "# FORWARD PROPAGATION WITHOUT ANY HIDDEN LAYER\n",
    "for iter in range(10000):\n",
    "    output0 = x \n",
    "    output = sig(np.dot(output0,weights)+bias)#vector dot product\n",
    "\n",
    "    first_term = output - y\n",
    "    input_for_last_layer = np.dot(output0,weights)+bias\n",
    "    second_term = derivativesig(input_for_last_layer)\n",
    "    first_two = first_term * second_term\n",
    "    first_two.shape\n",
    "    \n",
    "    changes=np.dot(output0.T,first_two)\n",
    "    bias_change=np.sum(first_two)\n",
    "\n",
    "    weights= weights - lr*changes\n",
    "    bias   = bias    - lr*bias_change\n",
    "output=sig(np.dot(x,weights)+bias)\n",
    "print(\"weights\",weights,\"\\n bias\",bias,\"\\n output\",output)"
   ]
  }
 ],
 "metadata": {
  "kernelspec": {
   "display_name": "Python 3",
   "language": "python",
   "name": "python3"
  },
  "language_info": {
   "codemirror_mode": {
    "name": "ipython",
    "version": 3
   },
   "file_extension": ".py",
   "mimetype": "text/x-python",
   "name": "python",
   "nbconvert_exporter": "python",
   "pygments_lexer": "ipython3",
   "version": "3.8.3"
  }
 },
 "nbformat": 4,
 "nbformat_minor": 4
}
